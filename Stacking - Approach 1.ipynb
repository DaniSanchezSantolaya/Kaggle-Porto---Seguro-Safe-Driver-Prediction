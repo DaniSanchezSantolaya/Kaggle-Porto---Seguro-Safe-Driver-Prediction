{
 "cells": [
  {
   "cell_type": "markdown",
   "metadata": {},
   "source": [
    "This approach retrains the models with the full train data once we do the k-fold"
   ]
  },
  {
   "cell_type": "code",
   "execution_count": 1,
   "metadata": {
    "collapsed": true
   },
   "outputs": [],
   "source": [
    "import numpy as np\n",
    "import pandas as pd\n",
    "from sklearn.model_selection import train_test_split\n",
    "from sklearn.model_selection import KFold\n",
    "from sklearn.preprocessing import LabelEncoder\n",
    "from numba import jit\n",
    "import time\n",
    "import gc\n",
    "from xgboost import XGBClassifier\n",
    "from lightgbm import LGBMClassifier\n",
    "from catboost import CatBoostClassifier\n",
    "from sklearn.linear_model import LogisticRegression\n",
    "from sklearn.ensemble import GradientBoostingClassifier, RandomForestClassifier, ExtraTreesClassifier, AdaBoostClassifier"
   ]
  },
  {
   "cell_type": "code",
   "execution_count": 2,
   "metadata": {
    "collapsed": true
   },
   "outputs": [],
   "source": [
    "kfold_seed = 0\n",
    "models_seed = 0\n",
    "np_seed = 0"
   ]
  },
  {
   "cell_type": "markdown",
   "metadata": {},
   "source": [
    "# Compute Gini metric functions"
   ]
  },
  {
   "cell_type": "code",
   "execution_count": 3,
   "metadata": {
    "collapsed": true
   },
   "outputs": [],
   "source": [
    "# from CPMP's kernel https://www.kaggle.com/cpmpml/extremely-fast-gini-computation\n",
    "def eval_gini(y_true, y_prob):\n",
    "    y_true = np.asarray(y_true)\n",
    "    y_true = y_true[np.argsort(y_prob)]\n",
    "    ntrue = 0\n",
    "    gini = 0\n",
    "    delta = 0\n",
    "    n = len(y_true)\n",
    "    for i in range(n-1, -1, -1):\n",
    "        y_i = y_true[i]\n",
    "        ntrue += y_i\n",
    "        gini += y_i * delta\n",
    "        delta += 1 - y_i\n",
    "    gini = 1 - 2 * gini / (ntrue * (n - ntrue))\n",
    "    return gini\n",
    "    \n",
    "    \n",
    "# Funcitons from olivier's kernel\n",
    "# https://www.kaggle.com/ogrellier/xgb-classifier-upsampling-lb-0-283\n",
    "\n",
    "def gini_xgb(preds, dtrain):\n",
    "    labels = dtrain.get_label()\n",
    "    gini_score = -eval_gini(labels, preds)\n",
    "    return [('gini', gini_score)]"
   ]
  },
  {
   "cell_type": "markdown",
   "metadata": {},
   "source": [
    "# Target encoding functions"
   ]
  },
  {
   "cell_type": "code",
   "execution_count": 4,
   "metadata": {
    "collapsed": true
   },
   "outputs": [],
   "source": [
    "def add_noise(series, noise_level):\n",
    "    return series * (1 + noise_level * np.random.randn(len(series)))\n",
    "\n",
    "\n",
    "def target_encode(trn_series=None,    # Revised to encode validation series\n",
    "                  val_series=None,\n",
    "                  tst_series=None,\n",
    "                  target=None,\n",
    "                  min_samples_leaf=1,\n",
    "                  smoothing=1,\n",
    "                  noise_level=0):\n",
    "    \"\"\"\n",
    "    Smoothing is computed like in the following paper by Daniele Micci-Barreca\n",
    "    https://kaggle2.blob.core.windows.net/forum-message-attachments/225952/7441/high%20cardinality%20categoricals.pdf\n",
    "    trn_series : training categorical feature as a pd.Series\n",
    "    tst_series : test categorical feature as a pd.Series\n",
    "    target : target data as a pd.Series\n",
    "    min_samples_leaf (int) : minimum samples to take category average into account\n",
    "    smoothing (int) : smoothing effect to balance categorical average vs prior\n",
    "    \"\"\"\n",
    "    assert len(trn_series) == len(target)\n",
    "    assert trn_series.name == tst_series.name\n",
    "    temp = pd.concat([trn_series, target], axis=1)\n",
    "    # Compute target mean\n",
    "    averages = temp.groupby(by=trn_series.name)[target.name].agg([\"mean\", \"count\"])\n",
    "    # Compute smoothing\n",
    "    smoothing = 1 / (1 + np.exp(-(averages[\"count\"] - min_samples_leaf) / smoothing))\n",
    "    # Apply average function to all target data\n",
    "    prior = target.mean()\n",
    "    # The bigger the count the less full_avg is taken into account\n",
    "    averages[target.name] = prior * (1 - smoothing) + averages[\"mean\"] * smoothing\n",
    "    averages.drop([\"mean\", \"count\"], axis=1, inplace=True)\n",
    "    # Apply averages to trn and tst series\n",
    "    ft_trn_series = pd.merge(\n",
    "        trn_series.to_frame(trn_series.name),\n",
    "        averages.reset_index().rename(columns={'index': target.name, target.name: 'average'}),\n",
    "        on=trn_series.name,\n",
    "        how='left')['average'].rename(trn_series.name + '_mean').fillna(prior)\n",
    "    # pd.merge does not keep the index so restore it\n",
    "    ft_trn_series.index = trn_series.index\n",
    "    ft_val_series = pd.merge(\n",
    "        val_series.to_frame(val_series.name),\n",
    "        averages.reset_index().rename(columns={'index': target.name, target.name: 'average'}),\n",
    "        on=val_series.name,\n",
    "        how='left')['average'].rename(trn_series.name + '_mean').fillna(prior)\n",
    "    # pd.merge does not keep the index so restore it\n",
    "    ft_val_series.index = val_series.index\n",
    "    ft_tst_series = pd.merge(\n",
    "        tst_series.to_frame(tst_series.name),\n",
    "        averages.reset_index().rename(columns={'index': target.name, target.name: 'average'}),\n",
    "        on=tst_series.name,\n",
    "        how='left')['average'].rename(trn_series.name + '_mean').fillna(prior)\n",
    "    # pd.merge does not keep the index so restore it\n",
    "    ft_tst_series.index = tst_series.index\n",
    "    return add_noise(ft_trn_series, noise_level), add_noise(ft_val_series, noise_level), add_noise(ft_tst_series, noise_level)"
   ]
  },
  {
   "cell_type": "markdown",
   "metadata": {},
   "source": [
    "# Read data"
   ]
  },
  {
   "cell_type": "code",
   "execution_count": 5,
   "metadata": {
    "collapsed": true
   },
   "outputs": [],
   "source": [
    "# Read data\n",
    "train_df = pd.read_csv('data/train.csv', na_values=\"-1\") \n",
    "test_df = pd.read_csv('data/test.csv', na_values=\"-1\")"
   ]
  },
  {
   "cell_type": "markdown",
   "metadata": {},
   "source": [
    "# Features to use"
   ]
  },
  {
   "cell_type": "code",
   "execution_count": 6,
   "metadata": {
    "collapsed": true
   },
   "outputs": [],
   "source": [
    "# Nulls count, not tested\n",
    "train_df['nulls_count'] = train_df.isnull().sum(axis=1)\n",
    "test_df['nulls_count'] = test_df.isnull().sum(axis=1)\n",
    "\n",
    "# from olivier\n",
    "train_features = [\n",
    "    \"ps_car_13\",  #            : 1571.65 / shadow  609.23\n",
    "\t\"ps_reg_03\",  #            : 1408.42 / shadow  511.15\n",
    "\t\"ps_ind_05_cat\",  #        : 1387.87 / shadow   84.72\n",
    "\t\"ps_ind_03\",  #            : 1219.47 / shadow  230.55\n",
    "\t\"ps_ind_15\",  #            :  922.18 / shadow  242.00\n",
    "\t\"ps_reg_02\",  #            :  920.65 / shadow  267.50\n",
    "\t\"ps_car_14\",  #            :  798.48 / shadow  549.58\n",
    "\t\"ps_car_12\",  #            :  731.93 / shadow  293.62\n",
    "\t\"ps_car_01_cat\",  #        :  698.07 / shadow  178.72\n",
    "\t\"ps_car_07_cat\",  #        :  694.53 / shadow   36.35\n",
    "\t\"ps_ind_17_bin\",  #        :  620.77 / shadow   23.15\n",
    "\t\"ps_car_03_cat\",  #        :  611.73 / shadow   50.67\n",
    "\t\"ps_reg_01\",  #            :  598.60 / shadow  178.57\n",
    "\t\"ps_car_15\",  #            :  593.35 / shadow  226.43\n",
    "\t\"ps_ind_01\",  #            :  547.32 / shadow  154.58\n",
    "\t\"ps_ind_16_bin\",  #        :  475.37 / shadow   34.17\n",
    "\t\"ps_ind_07_bin\",  #        :  435.28 / shadow   28.92\n",
    "\t\"ps_car_06_cat\",  #        :  398.02 / shadow  212.43\n",
    "\t\"ps_car_04_cat\",  #        :  376.87 / shadow   76.98\n",
    "\t\"ps_ind_06_bin\",  #        :  370.97 / shadow   36.13\n",
    "\t\"ps_car_09_cat\",  #        :  214.12 / shadow   81.38\n",
    "\t\"ps_car_02_cat\",  #        :  203.03 / shadow   26.67\n",
    "\t\"ps_ind_02_cat\",  #        :  189.47 / shadow   65.68\n",
    "\t\"ps_car_11\",  #            :  173.28 / shadow   76.45\n",
    "\t\"ps_car_05_cat\",  #        :  172.75 / shadow   62.92\n",
    "\t\"ps_calc_09\",  #           :  169.13 / shadow  129.72\n",
    "\t\"ps_calc_05\",  #           :  148.83 / shadow  120.68\n",
    "\t\"ps_ind_08_bin\",  #        :  140.73 / shadow   27.63\n",
    "\t\"ps_car_08_cat\",  #        :  120.87 / shadow   28.82\n",
    "\t\"ps_ind_09_bin\",  #        :  113.92 / shadow   27.05\n",
    "\t\"ps_ind_04_cat\",  #        :  107.27 / shadow   37.43\n",
    "\t\"ps_ind_18_bin\",  #        :   77.42 / shadow   25.97\n",
    "\t\"ps_ind_12_bin\",  #        :   39.67 / shadow   15.52\n",
    "\t\"ps_ind_14\",  #            :   37.37 / shadow   16.65\n",
    "    #\"nulls_count\" #            : not analized\n",
    "]\n",
    "# add combinations\n",
    "combs = [\n",
    "    ('ps_reg_01', 'ps_car_02_cat'),  \n",
    "    ('ps_reg_01', 'ps_car_04_cat'),\n",
    "    ('ps_ind_02_cat', 'ps_ind_03')\n",
    "    #ps_ind_05_cat|ps_ind_16_bin\n",
    "]\n",
    "\n"
   ]
  },
  {
   "cell_type": "markdown",
   "metadata": {},
   "source": [
    "# Extra feature engineering "
   ]
  },
  {
   "cell_type": "code",
   "execution_count": 7,
   "metadata": {
    "collapsed": true
   },
   "outputs": [],
   "source": [
    "#sum_ps_ind_03_ps_calc_02\t0.2891251923\tVALIDATOIN\n",
    "#diff_ps_ind_03_ps_ind_15\t0.289420424\tVALIDATOIN SCORE IMPROVED!!\n",
    "train_df['sum_ps_ind_03_ps_calc_02'] = (train_df['ps_ind_03'] + train_df['ps_calc_02']).astype(np.float32)\n",
    "test_df['sum_ps_ind_03_ps_calc_02'] = (test_df['ps_ind_03'] + test_df['ps_calc_02']).astype(np.float32)\n",
    "train_features.append('sum_ps_ind_03_ps_calc_02')\n",
    "train_df['diff_ps_ind_03_ps_ind_15'] = (train_df['ps_ind_03'] + train_df['ps_ind_15']).astype(np.float32)\n",
    "test_df['diff_ps_ind_03_ps_ind_15'] = (test_df['ps_ind_03'] + test_df['ps_ind_15']).astype(np.float32)\n",
    "train_features.append('diff_ps_ind_03_ps_ind_15')"
   ]
  },
  {
   "cell_type": "markdown",
   "metadata": {},
   "source": [
    "# Preprocess data"
   ]
  },
  {
   "cell_type": "code",
   "execution_count": 8,
   "metadata": {
    "collapsed": false
   },
   "outputs": [
    {
     "name": "stdout",
     "output_type": "stream",
     "text": []
    }
   ],
   "source": [
    "# Process data\n",
    "id_test = test_df['id'].values\n",
    "id_train = train_df['id'].values\n",
    "y = train_df['target']\n",
    "\n",
    "start = time.time()\n",
    "for n_c, (f1, f2) in enumerate(combs):\n",
    "    name1 = f1 + \"_plus_\" + f2\n",
    "    print('current feature %60s %4d in %5.1f'\n",
    "          % (name1, n_c + 1, (time.time() - start) / 60), end='')\n",
    "    print('\\r' * 75, end='')\n",
    "    train_df[name1] = train_df[f1].apply(lambda x: str(x)) + \"_\" + train_df[f2].apply(lambda x: str(x))\n",
    "    test_df[name1] = test_df[f1].apply(lambda x: str(x)) + \"_\" + test_df[f2].apply(lambda x: str(x))\n",
    "    # Label Encode\n",
    "    lbl = LabelEncoder()\n",
    "    lbl.fit(list(train_df[name1].values) + list(test_df[name1].values))\n",
    "    train_df[name1] = lbl.transform(list(train_df[name1].values))\n",
    "    test_df[name1] = lbl.transform(list(test_df[name1].values))\n",
    "\n",
    "    train_features.append(name1)\n",
    "    \n",
    "X = train_df[train_features]\n",
    "test_df = test_df[train_features]\n",
    "\n",
    "f_cats = [f for f in X.columns if \"_cat\" in f]"
   ]
  },
  {
   "cell_type": "markdown",
   "metadata": {},
   "source": [
    "# Setup classifiers"
   ]
  },
  {
   "cell_type": "code",
   "execution_count": 9,
   "metadata": {
    "collapsed": true
   },
   "outputs": [],
   "source": [
    "# XGBoost\n",
    "xgb1_params = {}\n",
    "xgb1_params['objective'] = \"binary:logistic\"\n",
    "xgb1_params['n_estimators'] = 400 # MAX_ROUNDS\n",
    "xgb1_params['learning_rate'] = 0.07\n",
    "xgb1_params['max_depth'] = 4\n",
    "xgb1_params['subsample'] = 0.80\n",
    "xgb1_params['colsample_bytree'] = 0.80\n",
    "xgb1_params['min_child_weight'] = 6\n",
    "xgb1_params['gamma'] = 10\n",
    "xgb1_params['reg_alpha'] = 8\n",
    "xgb1_params['reg_lambda'] = 1.5\n",
    "xgb1_params['scale_pos_weight'] = 1.6\n",
    "#xgb1_params['max_delta_step'] = 0\n",
    "xgb1_params['seed'] = models_seed\n",
    "xgb1 = XGBClassifier(**xgb1_params)\n",
    "\n",
    "xgb2_params = {'eta': 0.025, 'max_depth': 4, \n",
    "          'subsample': 0.9, 'colsample_bytree': 0.7, \n",
    "          'colsample_bylevel':0.7,\n",
    "            'min_child_weight':100,\n",
    "            'alpha':4,\n",
    "            'objective': 'binary:logistic', 'eval_metric': 'auc', 'seed': 99, 'silent': True}\n",
    "\n",
    "# LightGBM\n",
    "lgb1_params = {}\n",
    "lgb1_params['learning_rate'] = 0.02\n",
    "lgb1_params['n_estimators'] = 650\n",
    "lgb1_params['max_bin'] = 10\n",
    "lgb1_params['subsample'] = 0.8\n",
    "lgb1_params['subsample_freq'] = 10\n",
    "lgb1_params['colsample_bytree'] = 0.8   \n",
    "lgb1_params['min_child_samples'] = 500\n",
    "lgb1_params['seed'] = models_seed\n",
    "lgb1 = LGBMClassifier(**lgb1_params)\n",
    "\n",
    "lgb2_params = {}\n",
    "lgb2_params['n_estimators'] = 1090\n",
    "lgb2_params['learning_rate'] = 0.02\n",
    "lgb2_params['colsample_bytree'] = 0.3   \n",
    "lgb2_params['subsample'] = 0.7\n",
    "lgb2_params['subsample_freq'] = 2\n",
    "lgb2_params['num_leaves'] = 16\n",
    "lgb2_params['seed'] = 99\n",
    "lgb2 = LGBMClassifier(**lgb2_params)\n",
    "\n",
    "\n",
    "# Put all models in list\n",
    "models = [xgb1, lgb1, lgb2]\n",
    "models_params = [xgb1_params, lgb1_params, lgb2_params]\n",
    "models_names = ['xgb1', 'lgb1', 'lgb2']\n",
    "model_weights = [0.4, 0.3, 0.3]"
   ]
  },
  {
   "cell_type": "code",
   "execution_count": 10,
   "metadata": {
    "collapsed": false
   },
   "outputs": [],
   "source": [
    "# Create data set train_meta  and test_meta\n",
    "train_meta = train_df[['id', 'target']].copy()\n",
    "test_meta = pd.DataFrame()\n",
    "test_meta['id'] = id_test\n",
    "for m in models_names:\n",
    "    train_meta[m] = 0\n",
    "    test_meta[m] = 0"
   ]
  },
  {
   "cell_type": "markdown",
   "metadata": {},
   "source": [
    "# K fold CV"
   ]
  },
  {
   "cell_type": "code",
   "execution_count": 11,
   "metadata": {
    "collapsed": false
   },
   "outputs": [
    {
     "name": "stdout",
     "output_type": "stream",
     "text": [
      "\n",
      "Fold  0\n",
      "Train model xgb1\n",
      "TrainGini =  0.340995849324\n",
      "Val Gini =  0.282453654989\n",
      "---------NEXT MODEL---------\n",
      "Train model lgb1\n",
      "TrainGini =  0.398282048294\n",
      "Val Gini =  0.285986558143\n",
      "---------NEXT MODEL---------\n",
      "Train model lgb2\n",
      "TrainGini =  0.377447890178\n",
      "Val Gini =  0.281336782324\n",
      "---------NEXT MODEL---------\n",
      "Mean train error: 0.372241929266\n",
      "Mean val error: 0.283258998485\n",
      "---------------------------------------END FOLD------------------------------------------\n",
      "\n",
      "Fold  1\n",
      "Train model xgb1\n",
      "TrainGini =  0.343265021256\n",
      "Val Gini =  0.285166507865\n",
      "---------NEXT MODEL---------\n",
      "Train model lgb1\n",
      "TrainGini =  0.4031174467\n",
      "Val Gini =  0.282233001495\n",
      "---------NEXT MODEL---------\n",
      "Train model lgb2\n",
      "TrainGini =  0.380758983816\n",
      "Val Gini =  0.287919904935\n",
      "---------NEXT MODEL---------\n",
      "Mean train error: 0.375713817258\n",
      "Mean val error: 0.285106471432\n",
      "---------------------------------------END FOLD------------------------------------------\n",
      "\n",
      "Fold  2\n",
      "Train model xgb1\n",
      "TrainGini =  0.343838942595\n",
      "Val Gini =  0.285146908275\n",
      "---------NEXT MODEL---------\n",
      "Train model lgb1\n",
      "TrainGini =  0.399996966349\n",
      "Val Gini =  0.285477465816\n",
      "---------NEXT MODEL---------\n",
      "Train model lgb2\n",
      "TrainGini =  0.378521715769\n",
      "Val Gini =  0.286305360882\n",
      "---------NEXT MODEL---------\n",
      "Mean train error: 0.374119208238\n",
      "Mean val error: 0.285643244991\n",
      "---------------------------------------END FOLD------------------------------------------\n",
      "\n",
      "Fold  3\n",
      "Train model xgb1\n",
      "TrainGini =  0.34025600871\n",
      "Val Gini =  0.301064478908\n",
      "---------NEXT MODEL---------\n",
      "Train model lgb1\n",
      "TrainGini =  0.398155265157\n",
      "Val Gini =  0.302023240444\n",
      "---------NEXT MODEL---------\n",
      "Train model lgb2\n",
      "TrainGini =  0.376412582996\n",
      "Val Gini =  0.302848570534\n",
      "---------NEXT MODEL---------\n",
      "Mean train error: 0.371607952288\n",
      "Mean val error: 0.301978763296\n",
      "---------------------------------------END FOLD------------------------------------------\n",
      "\n",
      "Fold  4\n",
      "Train model xgb1\n",
      "TrainGini =  0.345620957337\n",
      "Val Gini =  0.27877356498\n",
      "---------NEXT MODEL---------\n",
      "Train model lgb1\n",
      "TrainGini =  0.400195476992\n",
      "Val Gini =  0.278704640444\n",
      "---------NEXT MODEL---------\n",
      "Train model lgb2\n",
      "TrainGini =  0.381563247066\n",
      "Val Gini =  0.27573971169\n",
      "---------NEXT MODEL---------\n",
      "Mean train error: 0.375793227131\n",
      "Mean val error: 0.277739305704\n",
      "---------------------------------------END FOLD------------------------------------------\n",
      "\n",
      "Gini for full training set:\n",
      "0.288786258425\n"
     ]
    }
   ],
   "source": [
    "y_valid_pred = 0*y\n",
    "\n",
    "\n",
    "# Set up folds\n",
    "K = 5\n",
    "kf = KFold(n_splits = K, random_state = kfold_seed, shuffle = True)\n",
    "# Also try with stratified\n",
    "np.random.seed(np_seed)\n",
    "\n",
    "# Run CV\n",
    "\n",
    "for i, (train_index, test_index) in enumerate(kf.split(train_df)):\n",
    "    \n",
    "    # Create data for this fold\n",
    "    y_train, y_valid = y.iloc[train_index].copy(), y.iloc[test_index]\n",
    "    X_train, X_valid = X.iloc[train_index,:].copy(), X.iloc[test_index,:].copy()\n",
    "    X_test = test_df.copy()\n",
    "    print( \"\\nFold \", i)\n",
    "    \n",
    "    # Enocode data\n",
    "    for f in f_cats:\n",
    "        X_train[f + \"_avg\"], X_valid[f + \"_avg\"], X_test[f + \"_avg\"] = target_encode(\n",
    "                                                        trn_series=X_train[f],\n",
    "                                                        val_series=X_valid[f],\n",
    "                                                        tst_series=X_test[f],\n",
    "                                                        target=y_train,\n",
    "                                                        min_samples_leaf=200,\n",
    "                                                        smoothing=10,\n",
    "                                                        noise_level=0\n",
    "                                                        )\n",
    "        \n",
    "    l_gini_train = []\n",
    "    l_gini_val = []\n",
    "    for model,model_params,model_name, model_weight in zip(models, models_params, models_names, model_weights):\n",
    "        #Fit the base model to the training fold \n",
    "        \n",
    "        print('Train model ' + model_name)\n",
    "        #print('Parameters: ')\n",
    "        #print(model_params)\n",
    "        fit_model = model.fit(X_train, y_train)\n",
    "        # if xgboost model, save it\n",
    "        if 'xgb' in model_name:\n",
    "            fit_model.booster().dump_model(model_name + '_fold' + str(i) + '.dump',  with_stats=True)\n",
    "        \n",
    "        # Train error\n",
    "        pred = fit_model.predict_proba(X_train)[:,1]\n",
    "        l_gini_train.append(eval_gini(y_train, pred))\n",
    "        print(\"TrainGini = \", str(l_gini_train[-1]))\n",
    "        \n",
    "        # make predictions on the test fold. Store these predictions in train_meta to be used as features for the stacking model\n",
    "        pred = fit_model.predict_proba(X_valid)[:,1]\n",
    "        l_gini_val.append(eval_gini(y_valid, pred))\n",
    "        print(\"Val Gini = \", str(l_gini_val[-1]))\n",
    "        train_meta.loc[test_index, model_name] = pred\n",
    "              \n",
    "        y_valid_pred.iloc[test_index] += pred * model_weight\n",
    "\n",
    "        print('---------NEXT MODEL---------')\n",
    "    print('Mean train error: ' + str(np.mean(l_gini_train)))\n",
    "    print('Mean val error: ' + str(np.mean(l_gini_val)))\n",
    "    \n",
    "    del X_test, X_train, X_valid, y_train\n",
    "        \n",
    "    print('---------------------------------------END FOLD------------------------------------------')\n",
    "    \n",
    "\n",
    "print( \"\\nGini for full training set:\" )\n",
    "print(eval_gini(y, y_valid_pred))"
   ]
  },
  {
   "cell_type": "code",
   "execution_count": 12,
   "metadata": {
    "collapsed": false
   },
   "outputs": [
    {
     "name": "stderr",
     "output_type": "stream",
     "text": [
      "C:\\Program Files\\Anaconda3\\lib\\site-packages\\ipykernel\\__main__.py:10: SettingWithCopyWarning: \n",
      "A value is trying to be set on a copy of a slice from a DataFrame.\n",
      "Try using .loc[row_indexer,col_indexer] = value instead\n",
      "\n",
      "See the caveats in the documentation: http://pandas.pydata.org/pandas-docs/stable/indexing.html#indexing-view-versus-copy\n"
     ]
    }
   ],
   "source": [
    "# Enocode data\n",
    "for f in f_cats:\n",
    "    X[f + \"_avg\"], valid, test_df[f + \"_avg\"] = target_encode(\n",
    "        trn_series=X[f],\n",
    "        val_series=X[f].iloc[0:5].copy(),\n",
    "        tst_series=test_df[f],\n",
    "        target=y,\n",
    "        min_samples_leaf=200,\n",
    "        smoothing=10,\n",
    "        noise_level=0\n",
    "        )\n",
    "del valid"
   ]
  },
  {
   "cell_type": "code",
   "execution_count": 13,
   "metadata": {
    "collapsed": false
   },
   "outputs": [
    {
     "name": "stdout",
     "output_type": "stream",
     "text": [
      "Train model xgb1 on full data\n",
      "Train model lgb1 on full data\n",
      "Train model lgb2 on full data\n"
     ]
    }
   ],
   "source": [
    "# Fit each base model to the full training dataset\n",
    "\n",
    "for model,model_name in zip(models, models_names):\n",
    "    print('Train model ' + model_name + ' on full data')\n",
    "    fit_model = model.fit(X, y, verbose=True,)\n",
    "    # make predictions on the test dataset.\n",
    "    pred = fit_model.predict_proba(test_df)[:,1]\n",
    "    # Store these predictions inside test_meta\n",
    "    test_meta[model_name] = pred"
   ]
  },
  {
   "cell_type": "code",
   "execution_count": 30,
   "metadata": {
    "collapsed": false
   },
   "outputs": [
    {
     "name": "stdout",
     "output_type": "stream",
     "text": [
      "Val Gini =  0.28494696258\n",
      "Val Gini =  0.287284671488\n",
      "Val Gini =  0.287554701478\n",
      "Val Gini =  0.303945679265\n",
      "Val Gini =  0.280061312483\n",
      "0.288758665459\n"
     ]
    }
   ],
   "source": [
    "# K-fold CV for hyperparemeter tuning of the stacked model\n",
    "stacking_model = LogisticRegression(C=0.001)\n",
    "val_gini_stack = []\n",
    "for i, (train_index, test_index) in enumerate(kf.split(train_df)):\n",
    "    # Create data for this fold\n",
    "    y_train, y_valid = y.iloc[train_index].copy(), y.iloc[test_index]\n",
    "    X_train, X_valid = train_meta.loc[train_index,models_names].copy(), train_meta.loc[test_index,models_names].copy()\n",
    "    stacking_model.fit(X_train, y_train)\n",
    "    pred = stacking_model.predict_proba(X_valid)[:,1]\n",
    "    val_gini_stack.append(eval_gini(y_valid, pred))\n",
    "    print(\"Val Gini = \", str(val_gini_stack[-1]))\n",
    "print(np.mean(val_gini_stack))"
   ]
  },
  {
   "cell_type": "code",
   "execution_count": 31,
   "metadata": {
    "collapsed": false
   },
   "outputs": [
    {
     "name": "stdout",
     "output_type": "stream",
     "text": [
      "[[ 2.38254782  1.60340036  1.59509317]]\n",
      "[-3.51913946]\n"
     ]
    }
   ],
   "source": [
    "# Fit a new model, S (i.e the stacking model) to train_meta, using predictions of other models as features. \n",
    "# Optionally, include other features from the original training dataset or engineered features\n",
    "stacking_model = LogisticRegression(C=0.01)\n",
    "stacking_model.fit(train_meta[models_names], y)\n",
    "# Use the stacked model S to make final predictions on test_meta\n",
    "res = stacking_model.predict_proba(test_meta[models_names])[:,1]\n",
    "\n",
    "sub = pd.DataFrame()\n",
    "sub['id'] = test_meta.id\n",
    "sub['target'] = res\n",
    "sub.to_csv('stacked_1.csv', index=False)\n",
    "print(stacking_model.coef_)\n",
    "print(stacking_model.intercept_ )"
   ]
  },
  {
   "cell_type": "markdown",
   "metadata": {},
   "source": [
    "# Show correlation between the different model predictions"
   ]
  },
  {
   "cell_type": "code",
   "execution_count": 33,
   "metadata": {
    "collapsed": false
   },
   "outputs": [
    {
     "data": {
      "text/plain": [
       "<matplotlib.axes._subplots.AxesSubplot at 0x30211da0>"
      ]
     },
     "execution_count": 33,
     "metadata": {},
     "output_type": "execute_result"
    },
    {
     "data": {
      "image/png": "[encoded data removed]",
      "text/plain": [
       "<matplotlib.figure.Figure at 0x3021ba58>"
      ]
     },
     "metadata": {},
     "output_type": "display_data"
    }
   ],
   "source": [
    "import seaborn as sns\n",
    "import matplotlib.pyplot as plt\n",
    "%matplotlib inline  \n",
    "corr = train_meta[models_names].corr()\n",
    "sns.heatmap(corr, \n",
    "            xticklabels=corr.columns.values,\n",
    "            yticklabels=corr.columns.values)"
   ]
  },
  {
   "cell_type": "code",
   "execution_count": null,
   "metadata": {
    "collapsed": true
   },
   "outputs": [],
   "source": []
  }
 ],
 "metadata": {
  "anaconda-cloud": {},
  "kernelspec": {
   "display_name": "Python [default]",
   "language": "python",
   "name": "python3"
  },
  "language_info": {
   "codemirror_mode": {
    "name": "ipython",
    "version": 3
   },
   "file_extension": ".py",
   "mimetype": "text/x-python",
   "name": "python",
   "nbconvert_exporter": "python",
   "pygments_lexer": "ipython3",
   "version": "3.5.2"
  }
 },
 "nbformat": 4,
 "nbformat_minor": 1
}
